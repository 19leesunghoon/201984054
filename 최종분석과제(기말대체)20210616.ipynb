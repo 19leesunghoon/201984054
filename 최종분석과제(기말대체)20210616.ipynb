{
 "cells": [
  {
   "cell_type": "code",
   "execution_count": 1,
   "metadata": {},
   "outputs": [],
   "source": [
    "#201984054 산업데이터 사이언스 학부 이성훈\n",
    "\n",
    "#데이터 소개 \n",
    "\n",
    "#Leave\t            가입해지여부(1이면 해지)\n",
    "#MemberWeeks\t가입기간\n",
    "#NewContract\t가입갱신여부(1이면 갱신)\n",
    "#IsData\t            데이터요금제사용여부(1이면 사용)\n",
    "#DataAmount\t데이터사용량(GB)\n",
    "#Callcenter\t고객센터전화량\n",
    "#CalMins      \t월평균전화량(분)\n",
    "#CalCounts\t월평균전화수(횟수)\n",
    "#MonthlyFee\t월평균요금\n",
    "#OverFee\t            초과요금\n",
    "#RoamingMin\t로밍시간(분)"
   ]
  },
  {
   "cell_type": "code",
   "execution_count": 3,
   "metadata": {},
   "outputs": [],
   "source": [
    "import pandas as pd\n",
    "import numpy as np"
   ]
  },
  {
   "cell_type": "code",
   "execution_count": 4,
   "metadata": {},
   "outputs": [
    {
     "data": {
      "text/plain": [
       "(3333, 11)"
      ]
     },
     "execution_count": 4,
     "metadata": {},
     "output_type": "execute_result"
    }
   ],
   "source": [
    "#데이터를 불러오겠습니다. 그리고 행과 열의 갯수를 확인하여줍니다.\n",
    "data= pd.read_csv('telco.csv',encoding='euc-kr')\n",
    "data.shape\n",
    "#확인결과 3333개의 열과 11개의 컬럼으로 구성되어 있는것을 확인할 수 있습니다."
   ]
  },
  {
   "cell_type": "code",
   "execution_count": 6,
   "metadata": {},
   "outputs": [
    {
     "data": {
      "text/html": [
       "<div>\n",
       "<style scoped>\n",
       "    .dataframe tbody tr th:only-of-type {\n",
       "        vertical-align: middle;\n",
       "    }\n",
       "\n",
       "    .dataframe tbody tr th {\n",
       "        vertical-align: top;\n",
       "    }\n",
       "\n",
       "    .dataframe thead th {\n",
       "        text-align: right;\n",
       "    }\n",
       "</style>\n",
       "<table border=\"1\" class=\"dataframe\">\n",
       "  <thead>\n",
       "    <tr style=\"text-align: right;\">\n",
       "      <th></th>\n",
       "      <th>Leave</th>\n",
       "      <th>MemberWeeks</th>\n",
       "      <th>NewContract</th>\n",
       "      <th>IsData</th>\n",
       "      <th>DataAmount</th>\n",
       "      <th>Callcenter</th>\n",
       "      <th>CalMins</th>\n",
       "      <th>CalCounts</th>\n",
       "      <th>MonthlyFee</th>\n",
       "      <th>OverFee</th>\n",
       "      <th>RoamingMin</th>\n",
       "    </tr>\n",
       "  </thead>\n",
       "  <tbody>\n",
       "    <tr>\n",
       "      <th>0</th>\n",
       "      <td>0</td>\n",
       "      <td>128</td>\n",
       "      <td>1</td>\n",
       "      <td>1</td>\n",
       "      <td>2.7</td>\n",
       "      <td>1</td>\n",
       "      <td>265.1</td>\n",
       "      <td>110</td>\n",
       "      <td>89.0</td>\n",
       "      <td>9.87</td>\n",
       "      <td>10.0</td>\n",
       "    </tr>\n",
       "    <tr>\n",
       "      <th>1</th>\n",
       "      <td>0</td>\n",
       "      <td>107</td>\n",
       "      <td>1</td>\n",
       "      <td>1</td>\n",
       "      <td>3.7</td>\n",
       "      <td>1</td>\n",
       "      <td>161.6</td>\n",
       "      <td>123</td>\n",
       "      <td>82.0</td>\n",
       "      <td>9.78</td>\n",
       "      <td>13.7</td>\n",
       "    </tr>\n",
       "    <tr>\n",
       "      <th>2</th>\n",
       "      <td>0</td>\n",
       "      <td>137</td>\n",
       "      <td>1</td>\n",
       "      <td>0</td>\n",
       "      <td>0.0</td>\n",
       "      <td>0</td>\n",
       "      <td>243.4</td>\n",
       "      <td>114</td>\n",
       "      <td>52.0</td>\n",
       "      <td>6.06</td>\n",
       "      <td>12.2</td>\n",
       "    </tr>\n",
       "    <tr>\n",
       "      <th>3</th>\n",
       "      <td>0</td>\n",
       "      <td>84</td>\n",
       "      <td>0</td>\n",
       "      <td>0</td>\n",
       "      <td>0.0</td>\n",
       "      <td>2</td>\n",
       "      <td>299.4</td>\n",
       "      <td>71</td>\n",
       "      <td>57.0</td>\n",
       "      <td>3.10</td>\n",
       "      <td>6.6</td>\n",
       "    </tr>\n",
       "    <tr>\n",
       "      <th>4</th>\n",
       "      <td>0</td>\n",
       "      <td>75</td>\n",
       "      <td>0</td>\n",
       "      <td>0</td>\n",
       "      <td>0.0</td>\n",
       "      <td>3</td>\n",
       "      <td>166.7</td>\n",
       "      <td>113</td>\n",
       "      <td>41.0</td>\n",
       "      <td>7.42</td>\n",
       "      <td>10.1</td>\n",
       "    </tr>\n",
       "  </tbody>\n",
       "</table>\n",
       "</div>"
      ],
      "text/plain": [
       "   Leave  MemberWeeks  NewContract  IsData  DataAmount  Callcenter  CalMins  \\\n",
       "0      0          128            1       1         2.7           1    265.1   \n",
       "1      0          107            1       1         3.7           1    161.6   \n",
       "2      0          137            1       0         0.0           0    243.4   \n",
       "3      0           84            0       0         0.0           2    299.4   \n",
       "4      0           75            0       0         0.0           3    166.7   \n",
       "\n",
       "   CalCounts  MonthlyFee  OverFee  RoamingMin  \n",
       "0        110        89.0     9.87        10.0  \n",
       "1        123        82.0     9.78        13.7  \n",
       "2        114        52.0     6.06        12.2  \n",
       "3         71        57.0     3.10         6.6  \n",
       "4        113        41.0     7.42        10.1  "
      ]
     },
     "execution_count": 6,
     "metadata": {},
     "output_type": "execute_result"
    }
   ],
   "source": [
    "#간단히 head를 활용해서 표로 보겠습니다.\n",
    "data= pd.read_csv('telco.csv',encoding='euc-kr')\n",
    "data.head()"
   ]
  },
  {
   "cell_type": "code",
   "execution_count": 5,
   "metadata": {},
   "outputs": [
    {
     "data": {
      "text/html": [
       "<div>\n",
       "<style scoped>\n",
       "    .dataframe tbody tr th:only-of-type {\n",
       "        vertical-align: middle;\n",
       "    }\n",
       "\n",
       "    .dataframe tbody tr th {\n",
       "        vertical-align: top;\n",
       "    }\n",
       "\n",
       "    .dataframe thead th {\n",
       "        text-align: right;\n",
       "    }\n",
       "</style>\n",
       "<table border=\"1\" class=\"dataframe\">\n",
       "  <thead>\n",
       "    <tr style=\"text-align: right;\">\n",
       "      <th></th>\n",
       "      <th>count</th>\n",
       "      <th>mean</th>\n",
       "      <th>std</th>\n",
       "      <th>min</th>\n",
       "      <th>25%</th>\n",
       "      <th>50%</th>\n",
       "      <th>75%</th>\n",
       "      <th>max</th>\n",
       "    </tr>\n",
       "  </thead>\n",
       "  <tbody>\n",
       "    <tr>\n",
       "      <th>Leave</th>\n",
       "      <td>3333.0</td>\n",
       "      <td>0.144914</td>\n",
       "      <td>0.352067</td>\n",
       "      <td>0.0</td>\n",
       "      <td>0.00</td>\n",
       "      <td>0.00</td>\n",
       "      <td>0.00</td>\n",
       "      <td>1.00</td>\n",
       "    </tr>\n",
       "    <tr>\n",
       "      <th>MemberWeeks</th>\n",
       "      <td>3333.0</td>\n",
       "      <td>101.064806</td>\n",
       "      <td>39.822106</td>\n",
       "      <td>1.0</td>\n",
       "      <td>74.00</td>\n",
       "      <td>101.00</td>\n",
       "      <td>127.00</td>\n",
       "      <td>243.00</td>\n",
       "    </tr>\n",
       "    <tr>\n",
       "      <th>NewContract</th>\n",
       "      <td>3333.0</td>\n",
       "      <td>0.903090</td>\n",
       "      <td>0.295879</td>\n",
       "      <td>0.0</td>\n",
       "      <td>1.00</td>\n",
       "      <td>1.00</td>\n",
       "      <td>1.00</td>\n",
       "      <td>1.00</td>\n",
       "    </tr>\n",
       "    <tr>\n",
       "      <th>IsData</th>\n",
       "      <td>3333.0</td>\n",
       "      <td>0.276628</td>\n",
       "      <td>0.447398</td>\n",
       "      <td>0.0</td>\n",
       "      <td>0.00</td>\n",
       "      <td>0.00</td>\n",
       "      <td>1.00</td>\n",
       "      <td>1.00</td>\n",
       "    </tr>\n",
       "    <tr>\n",
       "      <th>DataAmount</th>\n",
       "      <td>3333.0</td>\n",
       "      <td>0.816475</td>\n",
       "      <td>1.272668</td>\n",
       "      <td>0.0</td>\n",
       "      <td>0.00</td>\n",
       "      <td>0.00</td>\n",
       "      <td>1.78</td>\n",
       "      <td>5.40</td>\n",
       "    </tr>\n",
       "    <tr>\n",
       "      <th>Callcenter</th>\n",
       "      <td>3333.0</td>\n",
       "      <td>1.562856</td>\n",
       "      <td>1.315491</td>\n",
       "      <td>0.0</td>\n",
       "      <td>1.00</td>\n",
       "      <td>1.00</td>\n",
       "      <td>2.00</td>\n",
       "      <td>9.00</td>\n",
       "    </tr>\n",
       "    <tr>\n",
       "      <th>CalMins</th>\n",
       "      <td>3333.0</td>\n",
       "      <td>179.775098</td>\n",
       "      <td>54.467389</td>\n",
       "      <td>0.0</td>\n",
       "      <td>143.70</td>\n",
       "      <td>179.40</td>\n",
       "      <td>216.40</td>\n",
       "      <td>350.80</td>\n",
       "    </tr>\n",
       "    <tr>\n",
       "      <th>CalCounts</th>\n",
       "      <td>3333.0</td>\n",
       "      <td>100.435644</td>\n",
       "      <td>20.069084</td>\n",
       "      <td>0.0</td>\n",
       "      <td>87.00</td>\n",
       "      <td>101.00</td>\n",
       "      <td>114.00</td>\n",
       "      <td>165.00</td>\n",
       "    </tr>\n",
       "    <tr>\n",
       "      <th>MonthlyFee</th>\n",
       "      <td>3333.0</td>\n",
       "      <td>56.305161</td>\n",
       "      <td>16.426032</td>\n",
       "      <td>14.0</td>\n",
       "      <td>45.00</td>\n",
       "      <td>53.50</td>\n",
       "      <td>66.20</td>\n",
       "      <td>111.30</td>\n",
       "    </tr>\n",
       "    <tr>\n",
       "      <th>OverFee</th>\n",
       "      <td>3333.0</td>\n",
       "      <td>10.051488</td>\n",
       "      <td>2.535712</td>\n",
       "      <td>0.0</td>\n",
       "      <td>8.33</td>\n",
       "      <td>10.07</td>\n",
       "      <td>11.77</td>\n",
       "      <td>18.19</td>\n",
       "    </tr>\n",
       "    <tr>\n",
       "      <th>RoamingMin</th>\n",
       "      <td>3333.0</td>\n",
       "      <td>10.237294</td>\n",
       "      <td>2.791840</td>\n",
       "      <td>0.0</td>\n",
       "      <td>8.50</td>\n",
       "      <td>10.30</td>\n",
       "      <td>12.10</td>\n",
       "      <td>20.00</td>\n",
       "    </tr>\n",
       "  </tbody>\n",
       "</table>\n",
       "</div>"
      ],
      "text/plain": [
       "              count        mean        std   min     25%     50%     75%  \\\n",
       "Leave        3333.0    0.144914   0.352067   0.0    0.00    0.00    0.00   \n",
       "MemberWeeks  3333.0  101.064806  39.822106   1.0   74.00  101.00  127.00   \n",
       "NewContract  3333.0    0.903090   0.295879   0.0    1.00    1.00    1.00   \n",
       "IsData       3333.0    0.276628   0.447398   0.0    0.00    0.00    1.00   \n",
       "DataAmount   3333.0    0.816475   1.272668   0.0    0.00    0.00    1.78   \n",
       "Callcenter   3333.0    1.562856   1.315491   0.0    1.00    1.00    2.00   \n",
       "CalMins      3333.0  179.775098  54.467389   0.0  143.70  179.40  216.40   \n",
       "CalCounts    3333.0  100.435644  20.069084   0.0   87.00  101.00  114.00   \n",
       "MonthlyFee   3333.0   56.305161  16.426032  14.0   45.00   53.50   66.20   \n",
       "OverFee      3333.0   10.051488   2.535712   0.0    8.33   10.07   11.77   \n",
       "RoamingMin   3333.0   10.237294   2.791840   0.0    8.50   10.30   12.10   \n",
       "\n",
       "                max  \n",
       "Leave          1.00  \n",
       "MemberWeeks  243.00  \n",
       "NewContract    1.00  \n",
       "IsData         1.00  \n",
       "DataAmount     5.40  \n",
       "Callcenter     9.00  \n",
       "CalMins      350.80  \n",
       "CalCounts    165.00  \n",
       "MonthlyFee   111.30  \n",
       "OverFee       18.19  \n",
       "RoamingMin    20.00  "
      ]
     },
     "execution_count": 5,
     "metadata": {},
     "output_type": "execute_result"
    }
   ],
   "source": [
    "#한눈에 자세히 확인하기 \n",
    "data.describe().T.head(11)"
   ]
  },
  {
   "cell_type": "code",
   "execution_count": 6,
   "metadata": {},
   "outputs": [
    {
     "data": {
      "text/plain": [
       "pandas.core.frame.DataFrame"
      ]
     },
     "execution_count": 6,
     "metadata": {},
     "output_type": "execute_result"
    }
   ],
   "source": [
    "#데이터의 타입을 확인하여보니 data froame인것을 확인할 수 있습니다.\n",
    "data= pd.read_csv('telco.csv',encoding='euc-kr')\n",
    "type(data)"
   ]
  },
  {
   "cell_type": "code",
   "execution_count": 7,
   "metadata": {},
   "outputs": [
    {
     "data": {
      "text/plain": [
       "0           Leave\n",
       "1     MemberWeeks\n",
       "2     NewContract\n",
       "3          IsData\n",
       "4      DataAmount\n",
       "5      Callcenter\n",
       "6         CalMins\n",
       "7       CalCounts\n",
       "8      MonthlyFee\n",
       "9         OverFee\n",
       "10     RoamingMin\n",
       "dtype: object"
      ]
     },
     "execution_count": 7,
     "metadata": {},
     "output_type": "execute_result"
    }
   ],
   "source": [
    "#컬럼을 확인 해보겠습니다. Seies 함수를 활용하여 순서대로 번호를 붙여 편하게 볼 수 있습니다.\n",
    "columns =data.columns\n",
    "pd.Series(columns)\n",
    "#확인 결과 11개의 컬럼이 있는것을 다시 확인 할 수 있습니다."
   ]
  },
  {
   "cell_type": "code",
   "execution_count": 8,
   "metadata": {},
   "outputs": [
    {
     "data": {
      "text/plain": [
       "RangeIndex(start=0, stop=3333, step=1)"
      ]
     },
     "execution_count": 8,
     "metadata": {},
     "output_type": "execute_result"
    }
   ],
   "source": [
    "#index값도 확인 해줍니다.\n",
    "index = data.index\n",
    "index"
   ]
  },
  {
   "cell_type": "code",
   "execution_count": 9,
   "metadata": {},
   "outputs": [
    {
     "data": {
      "text/plain": [
       "Leave            int64\n",
       "MemberWeeks      int64\n",
       "NewContract      int64\n",
       "IsData           int64\n",
       "DataAmount     float64\n",
       "Callcenter       int64\n",
       "CalMins        float64\n",
       "CalCounts        int64\n",
       "MonthlyFee     float64\n",
       "OverFee        float64\n",
       "RoamingMin     float64\n",
       "dtype: object"
      ]
     },
     "execution_count": 9,
     "metadata": {},
     "output_type": "execute_result"
    }
   ],
   "source": [
    "# 각 컬럼의 데이터 형식을 확인하여 보겠습니다.\n",
    "data.dtypes\n",
    "#형식을 확인하니 int64와 float 가 있는것을 확인 할 수 있습니다. 둘다 결측치를 표시 할 수 있습니다."
   ]
  },
  {
   "cell_type": "code",
   "execution_count": 10,
   "metadata": {},
   "outputs": [
    {
     "data": {
      "text/plain": [
       "int64      6\n",
       "float64    5\n",
       "dtype: int64"
      ]
     },
     "execution_count": 10,
     "metadata": {},
     "output_type": "execute_result"
    }
   ],
   "source": [
    "#더욱 편하게 보기위해서 세어주겠습니다.\n",
    "data.dtypes.value_counts()\n",
    "#int64 가 6개 \n",
    "#folat64가 5개 "
   ]
  },
  {
   "cell_type": "code",
   "execution_count": 11,
   "metadata": {},
   "outputs": [
    {
     "name": "stdout",
     "output_type": "stream",
     "text": [
      "<class 'pandas.core.frame.DataFrame'>\n",
      "RangeIndex: 3333 entries, 0 to 3332\n",
      "Data columns (total 11 columns):\n",
      " #   Column       Non-Null Count  Dtype  \n",
      "---  ------       --------------  -----  \n",
      " 0   Leave        3333 non-null   int64  \n",
      " 1   MemberWeeks  3333 non-null   int64  \n",
      " 2   NewContract  3333 non-null   int64  \n",
      " 3   IsData       3333 non-null   int64  \n",
      " 4   DataAmount   3333 non-null   float64\n",
      " 5   Callcenter   3333 non-null   int64  \n",
      " 6   CalMins      3333 non-null   float64\n",
      " 7   CalCounts    3333 non-null   int64  \n",
      " 8   MonthlyFee   3333 non-null   float64\n",
      " 9   OverFee      3333 non-null   float64\n",
      " 10  RoamingMin   3333 non-null   float64\n",
      "dtypes: float64(5), int64(6)\n",
      "memory usage: 286.6 KB\n"
     ]
    }
   ],
   "source": [
    "#한번에 모아서 편하게 보겠습니다.\n",
    "data.info()\n",
    "#확인결과 286.6KB의 용량을 가지며 , \n",
    "#첫줄에서 DataFrame임을 알 수 있으며 ,\n",
    "#두번째줄에서 색인범위를 나타내며 , 3333개의 엔트리를 가지고있으며 ,색인이 0 부터 3332까지 할당 되었습니다.\n",
    "#11개의 컬럼을 가지고 있습니다. "
   ]
  },
  {
   "cell_type": "code",
   "execution_count": 12,
   "metadata": {},
   "outputs": [
    {
     "data": {
      "text/plain": [
       "array([[  0.  , 128.  ,   1.  , ...,  89.  ,   9.87,  10.  ],\n",
       "       [  0.  , 107.  ,   1.  , ...,  82.  ,   9.78,  13.7 ],\n",
       "       [  0.  , 137.  ,   1.  , ...,  52.  ,   6.06,  12.2 ],\n",
       "       ...,\n",
       "       [  0.  ,  28.  ,   1.  , ...,  56.  ,  14.44,  14.1 ],\n",
       "       [  0.  , 184.  ,   0.  , ...,  50.  ,   7.98,   5.  ],\n",
       "       [  0.  ,  74.  ,   1.  , ..., 100.  ,  13.3 ,  13.7 ]])"
      ]
     },
     "execution_count": 12,
     "metadata": {},
     "output_type": "execute_result"
    }
   ],
   "source": [
    "data.values"
   ]
  },
  {
   "cell_type": "code",
   "execution_count": 44,
   "metadata": {},
   "outputs": [
    {
     "data": {
      "text/html": [
       "<div>\n",
       "<style scoped>\n",
       "    .dataframe tbody tr th:only-of-type {\n",
       "        vertical-align: middle;\n",
       "    }\n",
       "\n",
       "    .dataframe tbody tr th {\n",
       "        vertical-align: top;\n",
       "    }\n",
       "\n",
       "    .dataframe thead th {\n",
       "        text-align: right;\n",
       "    }\n",
       "</style>\n",
       "<table border=\"1\" class=\"dataframe\">\n",
       "  <thead>\n",
       "    <tr style=\"text-align: right;\">\n",
       "      <th></th>\n",
       "      <th>CalMins</th>\n",
       "    </tr>\n",
       "  </thead>\n",
       "  <tbody>\n",
       "    <tr>\n",
       "      <th>1345</th>\n",
       "      <td>0.0</td>\n",
       "    </tr>\n",
       "    <tr>\n",
       "      <th>1397</th>\n",
       "      <td>0.0</td>\n",
       "    </tr>\n",
       "    <tr>\n",
       "      <th>2736</th>\n",
       "      <td>2.6</td>\n",
       "    </tr>\n",
       "    <tr>\n",
       "      <th>2753</th>\n",
       "      <td>7.8</td>\n",
       "    </tr>\n",
       "    <tr>\n",
       "      <th>1986</th>\n",
       "      <td>7.9</td>\n",
       "    </tr>\n",
       "    <tr>\n",
       "      <th>1052</th>\n",
       "      <td>12.5</td>\n",
       "    </tr>\n",
       "    <tr>\n",
       "      <th>2252</th>\n",
       "      <td>17.6</td>\n",
       "    </tr>\n",
       "    <tr>\n",
       "      <th>3046</th>\n",
       "      <td>18.9</td>\n",
       "    </tr>\n",
       "    <tr>\n",
       "      <th>1621</th>\n",
       "      <td>19.5</td>\n",
       "    </tr>\n",
       "    <tr>\n",
       "      <th>1076</th>\n",
       "      <td>25.9</td>\n",
       "    </tr>\n",
       "    <tr>\n",
       "      <th>2124</th>\n",
       "      <td>27.0</td>\n",
       "    </tr>\n",
       "    <tr>\n",
       "      <th>3174</th>\n",
       "      <td>29.9</td>\n",
       "    </tr>\n",
       "    <tr>\n",
       "      <th>685</th>\n",
       "      <td>30.9</td>\n",
       "    </tr>\n",
       "    <tr>\n",
       "      <th>741</th>\n",
       "      <td>34.0</td>\n",
       "    </tr>\n",
       "    <tr>\n",
       "      <th>1130</th>\n",
       "      <td>35.1</td>\n",
       "    </tr>\n",
       "    <tr>\n",
       "      <th>2241</th>\n",
       "      <td>37.7</td>\n",
       "    </tr>\n",
       "    <tr>\n",
       "      <th>1687</th>\n",
       "      <td>37.8</td>\n",
       "    </tr>\n",
       "    <tr>\n",
       "      <th>1461</th>\n",
       "      <td>39.5</td>\n",
       "    </tr>\n",
       "    <tr>\n",
       "      <th>2707</th>\n",
       "      <td>40.4</td>\n",
       "    </tr>\n",
       "    <tr>\n",
       "      <th>527</th>\n",
       "      <td>40.9</td>\n",
       "    </tr>\n",
       "  </tbody>\n",
       "</table>\n",
       "</div>"
      ],
      "text/plain": [
       "      CalMins\n",
       "1345      0.0\n",
       "1397      0.0\n",
       "2736      2.6\n",
       "2753      7.8\n",
       "1986      7.9\n",
       "1052     12.5\n",
       "2252     17.6\n",
       "3046     18.9\n",
       "1621     19.5\n",
       "1076     25.9\n",
       "2124     27.0\n",
       "3174     29.9\n",
       "685      30.9\n",
       "741      34.0\n",
       "1130     35.1\n",
       "2241     37.7\n",
       "1687     37.8\n",
       "1461     39.5\n",
       "2707     40.4\n",
       "527      40.9"
      ]
     },
     "execution_count": 44,
     "metadata": {},
     "output_type": "execute_result"
    }
   ],
   "source": [
    "#월 평균 전화량이 가장 적은 사람은 얼마나 통화 했을까요 ?\n",
    "data[['CalMins']].sort_values('CalMins').head(20)\n",
    "#확인 결과 0분으로 확인되었습니다. 그렇다면 전화량을 사용하지않는 고객은 가입을 유지중 인지 확인해보겠습니다."
   ]
  },
  {
   "cell_type": "code",
   "execution_count": 14,
   "metadata": {},
   "outputs": [
    {
     "data": {
      "text/html": [
       "<div>\n",
       "<style scoped>\n",
       "    .dataframe tbody tr th:only-of-type {\n",
       "        vertical-align: middle;\n",
       "    }\n",
       "\n",
       "    .dataframe tbody tr th {\n",
       "        vertical-align: top;\n",
       "    }\n",
       "\n",
       "    .dataframe thead th {\n",
       "        text-align: right;\n",
       "    }\n",
       "</style>\n",
       "<table border=\"1\" class=\"dataframe\">\n",
       "  <thead>\n",
       "    <tr style=\"text-align: right;\">\n",
       "      <th></th>\n",
       "      <th>CalMins</th>\n",
       "      <th>Leave</th>\n",
       "    </tr>\n",
       "  </thead>\n",
       "  <tbody>\n",
       "    <tr>\n",
       "      <th>1345</th>\n",
       "      <td>0.0</td>\n",
       "      <td>1</td>\n",
       "    </tr>\n",
       "    <tr>\n",
       "      <th>1397</th>\n",
       "      <td>0.0</td>\n",
       "      <td>0</td>\n",
       "    </tr>\n",
       "  </tbody>\n",
       "</table>\n",
       "</div>"
      ],
      "text/plain": [
       "      CalMins  Leave\n",
       "1345      0.0      1\n",
       "1397      0.0      0"
      ]
     },
     "execution_count": 14,
     "metadata": {},
     "output_type": "execute_result"
    }
   ],
   "source": [
    "data[['CalMins','Leave']].sort_values('CalMins').head(2)\n",
    "# 확인결과 통화를 사용하지 않는데도 불구하고 가입을 유지중인 고객이 있습니다."
   ]
  },
  {
   "cell_type": "code",
   "execution_count": 24,
   "metadata": {},
   "outputs": [
    {
     "data": {
      "text/html": [
       "<div>\n",
       "<style scoped>\n",
       "    .dataframe tbody tr th:only-of-type {\n",
       "        vertical-align: middle;\n",
       "    }\n",
       "\n",
       "    .dataframe tbody tr th {\n",
       "        vertical-align: top;\n",
       "    }\n",
       "\n",
       "    .dataframe thead th {\n",
       "        text-align: right;\n",
       "    }\n",
       "</style>\n",
       "<table border=\"1\" class=\"dataframe\">\n",
       "  <thead>\n",
       "    <tr style=\"text-align: right;\">\n",
       "      <th></th>\n",
       "      <th>DataAmount</th>\n",
       "    </tr>\n",
       "  </thead>\n",
       "  <tbody>\n",
       "    <tr>\n",
       "      <th>2827</th>\n",
       "      <td>0.00</td>\n",
       "    </tr>\n",
       "    <tr>\n",
       "      <th>1357</th>\n",
       "      <td>0.00</td>\n",
       "    </tr>\n",
       "    <tr>\n",
       "      <th>1356</th>\n",
       "      <td>0.00</td>\n",
       "    </tr>\n",
       "    <tr>\n",
       "      <th>2332</th>\n",
       "      <td>0.00</td>\n",
       "    </tr>\n",
       "    <tr>\n",
       "      <th>1351</th>\n",
       "      <td>0.00</td>\n",
       "    </tr>\n",
       "    <tr>\n",
       "      <th>...</th>\n",
       "      <td>...</td>\n",
       "    </tr>\n",
       "    <tr>\n",
       "      <th>1662</th>\n",
       "      <td>0.12</td>\n",
       "    </tr>\n",
       "    <tr>\n",
       "      <th>3292</th>\n",
       "      <td>0.12</td>\n",
       "    </tr>\n",
       "    <tr>\n",
       "      <th>2979</th>\n",
       "      <td>0.12</td>\n",
       "    </tr>\n",
       "    <tr>\n",
       "      <th>2525</th>\n",
       "      <td>0.13</td>\n",
       "    </tr>\n",
       "    <tr>\n",
       "      <th>2411</th>\n",
       "      <td>0.13</td>\n",
       "    </tr>\n",
       "  </tbody>\n",
       "</table>\n",
       "<p>1820 rows × 1 columns</p>\n",
       "</div>"
      ],
      "text/plain": [
       "      DataAmount\n",
       "2827        0.00\n",
       "1357        0.00\n",
       "1356        0.00\n",
       "2332        0.00\n",
       "1351        0.00\n",
       "...          ...\n",
       "1662        0.12\n",
       "3292        0.12\n",
       "2979        0.12\n",
       "2525        0.13\n",
       "2411        0.13\n",
       "\n",
       "[1820 rows x 1 columns]"
      ]
     },
     "execution_count": 24,
     "metadata": {},
     "output_type": "execute_result"
    }
   ],
   "source": [
    "#이번에는 데이터 사용량을 조회 하겠습니다.\n",
    "data[['DataAmount']].sort_values('DataAmount').head(1820)\n",
    "#조회결과 3333개의 데이터 중 데이터를 사용하는 인원의 수는 약 절반의 수임을 알 수 있습니다."
   ]
  },
  {
   "cell_type": "code",
   "execution_count": 12,
   "metadata": {},
   "outputs": [
    {
     "data": {
      "text/plain": [
       "0       2.70\n",
       "1       3.70\n",
       "2       0.00\n",
       "3       0.00\n",
       "4       0.00\n",
       "        ... \n",
       "3328    2.67\n",
       "3329    0.34\n",
       "3330    0.00\n",
       "3331    0.00\n",
       "3332    3.70\n",
       "Name: DataAmount, Length: 3333, dtype: float64"
      ]
     },
     "execution_count": 12,
     "metadata": {},
     "output_type": "execute_result"
    }
   ],
   "source": [
    "data.DataAmount"
   ]
  },
  {
   "cell_type": "code",
   "execution_count": 15,
   "metadata": {},
   "outputs": [
    {
     "data": {
      "text/plain": [
       "count    3333.000000\n",
       "mean        0.816475\n",
       "std         1.272668\n",
       "min         0.000000\n",
       "25%         0.000000\n",
       "50%         0.000000\n",
       "75%         1.780000\n",
       "max         5.400000\n",
       "Name: DataAmount, dtype: float64"
      ]
     },
     "execution_count": 15,
     "metadata": {},
     "output_type": "execute_result"
    }
   ],
   "source": [
    "data.DataAmount.describe()"
   ]
  },
  {
   "cell_type": "code",
   "execution_count": 17,
   "metadata": {},
   "outputs": [
    {
     "data": {
      "text/plain": [
       "<AxesSubplot:>"
      ]
     },
     "execution_count": 17,
     "metadata": {},
     "output_type": "execute_result"
    },
    {
     "data": {
      "image/png": "[encoded data removed]",
      "text/plain": [
       "<Figure size 720x576 with 1 Axes>"
      ]
     },
     "metadata": {
      "needs_background": "light"
     },
     "output_type": "display_data"
    }
   ],
   "source": [
    "#데이터 사용량에대한 표를 보겠습니다. \n",
    "import matplotlib.pyplot as plt\n",
    "fig, ax = plt.subplots(figsize=(10, 8))\n",
    "data.DataAmount.hist(ax=ax)\n",
    "#plt.hist()"
   ]
  },
  {
   "cell_type": "code",
   "execution_count": 18,
   "metadata": {},
   "outputs": [
    {
     "data": {
      "text/plain": [
       "<AxesSubplot:>"
      ]
     },
     "execution_count": 18,
     "metadata": {},
     "output_type": "execute_result"
    },
    {
     "data": {
      "image/png": "[encoded data removed]",
      "text/plain": [
       "<Figure size 720x576 with 1 Axes>"
      ]
     },
     "metadata": {
      "needs_background": "light"
     },
     "output_type": "display_data"
    }
   ],
   "source": [
    "fig, ax = plt.subplots(figsize=(10, 8))\n",
    "data.DataAmount.hist(ax=ax, bins=100)"
   ]
  },
  {
   "cell_type": "code",
   "execution_count": 23,
   "metadata": {},
   "outputs": [
    {
     "data": {
      "text/plain": [
       "<AxesSubplot:xlabel='DataAmount', ylabel='Count'>"
      ]
     },
     "execution_count": 23,
     "metadata": {},
     "output_type": "execute_result"
    },
    {
     "data": {
      "image/png": "[encoded data removed]",
      "text/plain": [
       "<Figure size 720x576 with 1 Axes>"
      ]
     },
     "metadata": {
      "needs_background": "light"
     },
     "output_type": "display_data"
    }
   ],
   "source": [
    "import seaborn as sns\n",
    "fig, ax = plt.subplots(figsize=(10, 8))\n",
    "sns.histplot(data.DataAmount, ax=ax, binwidth=2)"
   ]
  },
  {
   "cell_type": "code",
   "execution_count": 53,
   "metadata": {},
   "outputs": [
    {
     "data": {
      "text/html": [
       "<div>\n",
       "<style scoped>\n",
       "    .dataframe tbody tr th:only-of-type {\n",
       "        vertical-align: middle;\n",
       "    }\n",
       "\n",
       "    .dataframe tbody tr th {\n",
       "        vertical-align: top;\n",
       "    }\n",
       "\n",
       "    .dataframe thead th {\n",
       "        text-align: right;\n",
       "    }\n",
       "</style>\n",
       "<table border=\"1\" class=\"dataframe\">\n",
       "  <thead>\n",
       "    <tr style=\"text-align: right;\">\n",
       "      <th></th>\n",
       "      <th>DataAmount</th>\n",
       "      <th>CalMins</th>\n",
       "      <th>CalCounts</th>\n",
       "      <th>RoamingMin</th>\n",
       "      <th>MonthlyFee</th>\n",
       "    </tr>\n",
       "  </thead>\n",
       "  <tbody>\n",
       "    <tr>\n",
       "      <th>2122</th>\n",
       "      <td>4.43</td>\n",
       "      <td>268.8</td>\n",
       "      <td>78</td>\n",
       "      <td>16.4</td>\n",
       "      <td>111.3</td>\n",
       "    </tr>\n",
       "    <tr>\n",
       "      <th>115</th>\n",
       "      <td>5.40</td>\n",
       "      <td>196.8</td>\n",
       "      <td>89</td>\n",
       "      <td>20.0</td>\n",
       "      <td>110.0</td>\n",
       "    </tr>\n",
       "    <tr>\n",
       "      <th>670</th>\n",
       "      <td>4.40</td>\n",
       "      <td>266.7</td>\n",
       "      <td>109</td>\n",
       "      <td>16.3</td>\n",
       "      <td>110.0</td>\n",
       "    </tr>\n",
       "    <tr>\n",
       "      <th>1355</th>\n",
       "      <td>3.67</td>\n",
       "      <td>302.7</td>\n",
       "      <td>93</td>\n",
       "      <td>13.6</td>\n",
       "      <td>108.7</td>\n",
       "    </tr>\n",
       "    <tr>\n",
       "      <th>1821</th>\n",
       "      <td>4.16</td>\n",
       "      <td>270.4</td>\n",
       "      <td>99</td>\n",
       "      <td>15.4</td>\n",
       "      <td>108.6</td>\n",
       "    </tr>\n",
       "    <tr>\n",
       "      <th>575</th>\n",
       "      <td>3.83</td>\n",
       "      <td>309.9</td>\n",
       "      <td>90</td>\n",
       "      <td>14.2</td>\n",
       "      <td>108.3</td>\n",
       "    </tr>\n",
       "    <tr>\n",
       "      <th>2793</th>\n",
       "      <td>3.89</td>\n",
       "      <td>283.4</td>\n",
       "      <td>104</td>\n",
       "      <td>14.4</td>\n",
       "      <td>106.9</td>\n",
       "    </tr>\n",
       "    <tr>\n",
       "      <th>579</th>\n",
       "      <td>4.46</td>\n",
       "      <td>186.7</td>\n",
       "      <td>108</td>\n",
       "      <td>16.5</td>\n",
       "      <td>105.6</td>\n",
       "    </tr>\n",
       "    <tr>\n",
       "      <th>2764</th>\n",
       "      <td>4.02</td>\n",
       "      <td>245.0</td>\n",
       "      <td>88</td>\n",
       "      <td>14.9</td>\n",
       "      <td>105.2</td>\n",
       "    </tr>\n",
       "    <tr>\n",
       "      <th>2687</th>\n",
       "      <td>4.59</td>\n",
       "      <td>260.8</td>\n",
       "      <td>81</td>\n",
       "      <td>17.0</td>\n",
       "      <td>104.9</td>\n",
       "    </tr>\n",
       "  </tbody>\n",
       "</table>\n",
       "</div>"
      ],
      "text/plain": [
       "      DataAmount  CalMins  CalCounts  RoamingMin  MonthlyFee\n",
       "2122        4.43    268.8         78        16.4       111.3\n",
       "115         5.40    196.8         89        20.0       110.0\n",
       "670         4.40    266.7        109        16.3       110.0\n",
       "1355        3.67    302.7         93        13.6       108.7\n",
       "1821        4.16    270.4         99        15.4       108.6\n",
       "575         3.83    309.9         90        14.2       108.3\n",
       "2793        3.89    283.4        104        14.4       106.9\n",
       "579         4.46    186.7        108        16.5       105.6\n",
       "2764        4.02    245.0         88        14.9       105.2\n",
       "2687        4.59    260.8         81        17.0       104.9"
      ]
     },
     "execution_count": 53,
     "metadata": {},
     "output_type": "execute_result"
    }
   ],
   "source": [
    "#요금에 대해 어떤 컬럼이 가장 큰 요인을 미치는지 알아보겠습니다.\n",
    "data[['DataAmount','CalMins','CalCounts','RoamingMin','MonthlyFee']].sort_values('MonthlyFee',ascending=False).head(10)"
   ]
  },
  {
   "cell_type": "code",
   "execution_count": null,
   "metadata": {},
   "outputs": [],
   "source": [
    "#확인결과 dataamount의 사용량과 로밍시간이 monthllyfee(요금)에 가장 큰 요인을 미치는것으로 확인되어집니다."
   ]
  },
  {
   "cell_type": "code",
   "execution_count": 55,
   "metadata": {},
   "outputs": [
    {
     "data": {
      "text/plain": [
       "0       110\n",
       "1       123\n",
       "2       114\n",
       "3        71\n",
       "4       113\n",
       "       ... \n",
       "3328     77\n",
       "3329     57\n",
       "3330    109\n",
       "3331    105\n",
       "3332    113\n",
       "Name: CalCounts, Length: 3333, dtype: int64"
      ]
     },
     "execution_count": 55,
     "metadata": {},
     "output_type": "execute_result"
    }
   ],
   "source": [
    "#다음으로는 전화사용량에대한 표를 보겠습니다.\n",
    "data.CalCounts"
   ]
  },
  {
   "cell_type": "code",
   "execution_count": 56,
   "metadata": {},
   "outputs": [
    {
     "data": {
      "text/plain": [
       "count    3333.000000\n",
       "mean      100.435644\n",
       "std        20.069084\n",
       "min         0.000000\n",
       "25%        87.000000\n",
       "50%       101.000000\n",
       "75%       114.000000\n",
       "max       165.000000\n",
       "Name: CalCounts, dtype: float64"
      ]
     },
     "execution_count": 56,
     "metadata": {},
     "output_type": "execute_result"
    }
   ],
   "source": [
    "data.CalCounts.describe()"
   ]
  },
  {
   "cell_type": "code",
   "execution_count": 57,
   "metadata": {},
   "outputs": [
    {
     "data": {
      "text/plain": [
       "<AxesSubplot:>"
      ]
     },
     "execution_count": 57,
     "metadata": {},
     "output_type": "execute_result"
    },
    {
     "data": {
      "image/png": "[encoded data removed]",
      "text/plain": [
       "<Figure size 720x576 with 1 Axes>"
      ]
     },
     "metadata": {
      "needs_background": "light"
     },
     "output_type": "display_data"
    }
   ],
   "source": [
    "#전화 사용량에대한 표를 보겠습니다. \n",
    "import matplotlib.pyplot as plt\n",
    "fig, ax = plt.subplots(figsize=(10, 8))\n",
    "data.CalCounts.hist(ax=ax)\n",
    "#plt.hist()"
   ]
  },
  {
   "cell_type": "code",
   "execution_count": 58,
   "metadata": {},
   "outputs": [
    {
     "data": {
      "text/plain": [
       "<AxesSubplot:>"
      ]
     },
     "execution_count": 58,
     "metadata": {},
     "output_type": "execute_result"
    },
    {
     "data": {
      "image/png": "[encoded data removed]",
      "text/plain": [
       "<Figure size 720x576 with 1 Axes>"
      ]
     },
     "metadata": {
      "needs_background": "light"
     },
     "output_type": "display_data"
    }
   ],
   "source": [
    "fig, ax = plt.subplots(figsize=(10, 8))\n",
    "data.CalCounts.hist(ax=ax, bins=100)"
   ]
  },
  {
   "cell_type": "code",
   "execution_count": null,
   "metadata": {},
   "outputs": [],
   "source": [
    "# 이상으로 마치겠습니다 .\n",
    "#감사합니다 교수님 "
   ]
  },
  {
   "cell_type": "code",
   "execution_count": null,
   "metadata": {},
   "outputs": [],
   "source": []
  }
 ],
 "metadata": {
  "kernelspec": {
   "display_name": "Python 3",
   "language": "python",
   "name": "python3"
  },
  "language_info": {
   "codemirror_mode": {
    "name": "ipython",
    "version": 3
   },
   "file_extension": ".py",
   "mimetype": "text/x-python",
   "name": "python",
   "nbconvert_exporter": "python",
   "pygments_lexer": "ipython3",
   "version": "3.8.5"
  }
 },
 "nbformat": 4,
 "nbformat_minor": 4
}
