{
 "cells": [
  {
   "cell_type": "code",
   "execution_count": 46,
   "metadata": {},
   "outputs": [],
   "source": [
    "import pandas as pd\n",
    "import numpy as np"
   ]
  },
  {
   "cell_type": "code",
   "execution_count": 68,
   "metadata": {},
   "outputs": [],
   "source": [
    "#데이터를 불러오겠습니다.\n",
    "my_df= pd.read_csv('2021서울확진자현황.csv',encoding='euc-kr')"
   ]
  },
  {
   "cell_type": "code",
   "execution_count": 69,
   "metadata": {},
   "outputs": [
    {
     "name": "stdout",
     "output_type": "stream",
     "text": [
      "<class 'pandas.core.frame.DataFrame'>\n",
      "RangeIndex: 22042 entries, 0 to 22041\n",
      "Data columns (total 8 columns):\n",
      " #   Column  Non-Null Count  Dtype  \n",
      "---  ------  --------------  -----  \n",
      " 0   연번      22042 non-null  int64  \n",
      " 1   확진일     22042 non-null  object \n",
      " 2   지역      22042 non-null  object \n",
      " 3   접촉력     22042 non-null  object \n",
      " 4   조치사항    0 non-null      float64\n",
      " 5   등록일     22042 non-null  object \n",
      " 6   수정일     22042 non-null  object \n",
      " 7   노출여부    22042 non-null  object \n",
      "dtypes: float64(1), int64(1), object(6)\n",
      "memory usage: 1.3+ MB\n"
     ]
    }
   ],
   "source": [
    "#DataFrame임을 알 수 있으며 ,\n",
    "#색인범위를 나타내며 , 22042개의 엔트리를 가지고있으며 ,색인이 0 부터 22041까지 할당 되었습니다.\n",
    "#8개의 컬럼을 가지고 있습니다.\n",
    "#컬럼들의 데이터 타임은 int64한개 object 여섯개 float64 한개를 가지고있습니다. \n",
    "my_df.info()"
   ]
  },
  {
   "cell_type": "code",
   "execution_count": 49,
   "metadata": {},
   "outputs": [
    {
     "data": {
      "text/plain": [
       "(22042, 8)"
      ]
     },
     "execution_count": 49,
     "metadata": {},
     "output_type": "execute_result"
    }
   ],
   "source": [
    "#데이터프레임 속성으로 데이터프레임 추가 정보확인\n",
    "#행과 열의 갯수는 다음과 같습니다.\n",
    "my_df.shape"
   ]
  },
  {
   "cell_type": "code",
   "execution_count": 50,
   "metadata": {},
   "outputs": [
    {
     "data": {
      "text/plain": [
       "Index(['연번', '확진일', '지역', '접촉력', '조치사항', '등록일', '수정일', '노출여부'], dtype='object')"
      ]
     },
     "execution_count": 50,
     "metadata": {},
     "output_type": "execute_result"
    }
   ],
   "source": [
    "#컬럼의 정보를 확인 \n",
    "my_df.columns"
   ]
  },
  {
   "cell_type": "code",
   "execution_count": 51,
   "metadata": {},
   "outputs": [
    {
     "data": {
      "text/plain": [
       "array([[41410, '2021-05-17', '영등포구', ..., '2021-05-18 10:45',\n",
       "        '2021-05-18 10:45', 'Y'],\n",
       "       [41409, '2021-05-17', '광진구', ..., '2021-05-18 10:45',\n",
       "        '2021-05-18 10:45', 'Y'],\n",
       "       [41408, '2021-05-17', '타시도', ..., '2021-05-18 10:45',\n",
       "        '2021-05-18 10:45', 'Y'],\n",
       "       ...,\n",
       "       [19371, '2021-01-01', '동작구', ..., '2021-03-24 10:54',\n",
       "        '2021-03-26 11:11', 'Y'],\n",
       "       [19370, '2021-01-01', '동작구', ..., '2021-03-24 10:54',\n",
       "        '2021-03-26 11:11', 'Y'],\n",
       "       [19369, '2021-01-01', '성북구', ..., '2021-03-24 10:54',\n",
       "        '2021-03-26 11:05', 'Y']], dtype=object)"
      ]
     },
     "execution_count": 51,
     "metadata": {},
     "output_type": "execute_result"
    }
   ],
   "source": [
    "#데이터 값만 확인\n",
    "my_df.values"
   ]
  },
  {
   "cell_type": "code",
   "execution_count": 53,
   "metadata": {},
   "outputs": [
    {
     "data": {
      "text/html": [
       "<div>\n",
       "<style scoped>\n",
       "    .dataframe tbody tr th:only-of-type {\n",
       "        vertical-align: middle;\n",
       "    }\n",
       "\n",
       "    .dataframe tbody tr th {\n",
       "        vertical-align: top;\n",
       "    }\n",
       "\n",
       "    .dataframe thead th {\n",
       "        text-align: right;\n",
       "    }\n",
       "</style>\n",
       "<table border=\"1\" class=\"dataframe\">\n",
       "  <thead>\n",
       "    <tr style=\"text-align: right;\">\n",
       "      <th></th>\n",
       "      <th>연번</th>\n",
       "      <th>확진일</th>\n",
       "      <th>지역</th>\n",
       "      <th>접촉력</th>\n",
       "      <th>조치사항</th>\n",
       "      <th>등록일</th>\n",
       "      <th>수정일</th>\n",
       "      <th>노출여부</th>\n",
       "    </tr>\n",
       "  </thead>\n",
       "  <tbody>\n",
       "    <tr>\n",
       "      <th>0</th>\n",
       "      <td>41410</td>\n",
       "      <td>2021-05-17</td>\n",
       "      <td>영등포구</td>\n",
       "      <td>강남구 소재 학원 관련(?21.5.)</td>\n",
       "      <td>NaN</td>\n",
       "      <td>2021-05-18 10:45</td>\n",
       "      <td>2021-05-18 10:45</td>\n",
       "      <td>Y</td>\n",
       "    </tr>\n",
       "    <tr>\n",
       "      <th>1</th>\n",
       "      <td>41409</td>\n",
       "      <td>2021-05-17</td>\n",
       "      <td>광진구</td>\n",
       "      <td>기타 확진자 접촉</td>\n",
       "      <td>NaN</td>\n",
       "      <td>2021-05-18 10:45</td>\n",
       "      <td>2021-05-18 10:45</td>\n",
       "      <td>Y</td>\n",
       "    </tr>\n",
       "    <tr>\n",
       "      <th>2</th>\n",
       "      <td>41408</td>\n",
       "      <td>2021-05-17</td>\n",
       "      <td>타시도</td>\n",
       "      <td>강동구 소재 노래연습장 관련</td>\n",
       "      <td>NaN</td>\n",
       "      <td>2021-05-18 10:45</td>\n",
       "      <td>2021-05-18 10:45</td>\n",
       "      <td>Y</td>\n",
       "    </tr>\n",
       "    <tr>\n",
       "      <th>3</th>\n",
       "      <td>41407</td>\n",
       "      <td>2021-05-17</td>\n",
       "      <td>강동구</td>\n",
       "      <td>감염경로 조사중</td>\n",
       "      <td>NaN</td>\n",
       "      <td>2021-05-18 10:45</td>\n",
       "      <td>2021-05-18 10:45</td>\n",
       "      <td>Y</td>\n",
       "    </tr>\n",
       "    <tr>\n",
       "      <th>4</th>\n",
       "      <td>41406</td>\n",
       "      <td>2021-05-17</td>\n",
       "      <td>서초구</td>\n",
       "      <td>기타 확진자 접촉</td>\n",
       "      <td>NaN</td>\n",
       "      <td>2021-05-18 10:45</td>\n",
       "      <td>2021-05-18 10:45</td>\n",
       "      <td>Y</td>\n",
       "    </tr>\n",
       "  </tbody>\n",
       "</table>\n",
       "</div>"
      ],
      "text/plain": [
       "      연번         확진일    지역                   접촉력  조치사항               등록일  \\\n",
       "0  41410  2021-05-17  영등포구  강남구 소재 학원 관련(?21.5.)   NaN  2021-05-18 10:45   \n",
       "1  41409  2021-05-17   광진구             기타 확진자 접촉   NaN  2021-05-18 10:45   \n",
       "2  41408  2021-05-17   타시도       강동구 소재 노래연습장 관련   NaN  2021-05-18 10:45   \n",
       "3  41407  2021-05-17   강동구              감염경로 조사중   NaN  2021-05-18 10:45   \n",
       "4  41406  2021-05-17   서초구             기타 확진자 접촉   NaN  2021-05-18 10:45   \n",
       "\n",
       "                수정일 노출여부  \n",
       "0  2021-05-18 10:45    Y  \n",
       "1  2021-05-18 10:45    Y  \n",
       "2  2021-05-18 10:45    Y  \n",
       "3  2021-05-18 10:45    Y  \n",
       "4  2021-05-18 10:45    Y  "
      ]
     },
     "execution_count": 53,
     "metadata": {},
     "output_type": "execute_result"
    }
   ],
   "source": [
    "#미리 간단히 위에서부터 확인하기\n",
    "my_df.head()"
   ]
  },
  {
   "cell_type": "code",
   "execution_count": 13,
   "metadata": {},
   "outputs": [
    {
     "data": {
      "text/html": [
       "<div>\n",
       "<style scoped>\n",
       "    .dataframe tbody tr th:only-of-type {\n",
       "        vertical-align: middle;\n",
       "    }\n",
       "\n",
       "    .dataframe tbody tr th {\n",
       "        vertical-align: top;\n",
       "    }\n",
       "\n",
       "    .dataframe thead th {\n",
       "        text-align: right;\n",
       "    }\n",
       "</style>\n",
       "<table border=\"1\" class=\"dataframe\">\n",
       "  <thead>\n",
       "    <tr style=\"text-align: right;\">\n",
       "      <th></th>\n",
       "      <th>연번</th>\n",
       "      <th>확진일</th>\n",
       "      <th>지역</th>\n",
       "      <th>접촉력</th>\n",
       "      <th>조치사항</th>\n",
       "      <th>등록일</th>\n",
       "      <th>수정일</th>\n",
       "      <th>노출여부</th>\n",
       "    </tr>\n",
       "  </thead>\n",
       "  <tbody>\n",
       "    <tr>\n",
       "      <th>22037</th>\n",
       "      <td>19373</td>\n",
       "      <td>2021-01-01</td>\n",
       "      <td>동작구</td>\n",
       "      <td>감염경로 조사중</td>\n",
       "      <td>NaN</td>\n",
       "      <td>2021-03-24 10:54</td>\n",
       "      <td>2021-03-26 11:13</td>\n",
       "      <td>Y</td>\n",
       "    </tr>\n",
       "    <tr>\n",
       "      <th>22038</th>\n",
       "      <td>19372</td>\n",
       "      <td>2021-01-01</td>\n",
       "      <td>서초구</td>\n",
       "      <td>기타 확진자 접촉</td>\n",
       "      <td>NaN</td>\n",
       "      <td>2021-03-24 10:54</td>\n",
       "      <td>2021-03-26 11:13</td>\n",
       "      <td>Y</td>\n",
       "    </tr>\n",
       "    <tr>\n",
       "      <th>22039</th>\n",
       "      <td>19371</td>\n",
       "      <td>2021-01-01</td>\n",
       "      <td>동작구</td>\n",
       "      <td>감염경로 조사중</td>\n",
       "      <td>NaN</td>\n",
       "      <td>2021-03-24 10:54</td>\n",
       "      <td>2021-03-26 11:11</td>\n",
       "      <td>Y</td>\n",
       "    </tr>\n",
       "    <tr>\n",
       "      <th>22040</th>\n",
       "      <td>19370</td>\n",
       "      <td>2021-01-01</td>\n",
       "      <td>동작구</td>\n",
       "      <td>기타 확진자 접촉</td>\n",
       "      <td>NaN</td>\n",
       "      <td>2021-03-24 10:54</td>\n",
       "      <td>2021-03-26 11:11</td>\n",
       "      <td>Y</td>\n",
       "    </tr>\n",
       "    <tr>\n",
       "      <th>22041</th>\n",
       "      <td>19369</td>\n",
       "      <td>2021-01-01</td>\n",
       "      <td>성북구</td>\n",
       "      <td>감염경로 조사중</td>\n",
       "      <td>NaN</td>\n",
       "      <td>2021-03-24 10:54</td>\n",
       "      <td>2021-03-26 11:05</td>\n",
       "      <td>Y</td>\n",
       "    </tr>\n",
       "  </tbody>\n",
       "</table>\n",
       "</div>"
      ],
      "text/plain": [
       "          연번         확진일   지역        접촉력  조치사항               등록일  \\\n",
       "22037  19373  2021-01-01  동작구   감염경로 조사중   NaN  2021-03-24 10:54   \n",
       "22038  19372  2021-01-01  서초구  기타 확진자 접촉   NaN  2021-03-24 10:54   \n",
       "22039  19371  2021-01-01  동작구   감염경로 조사중   NaN  2021-03-24 10:54   \n",
       "22040  19370  2021-01-01  동작구  기타 확진자 접촉   NaN  2021-03-24 10:54   \n",
       "22041  19369  2021-01-01  성북구   감염경로 조사중   NaN  2021-03-24 10:54   \n",
       "\n",
       "                    수정일 노출여부  \n",
       "22037  2021-03-26 11:13    Y  \n",
       "22038  2021-03-26 11:13    Y  \n",
       "22039  2021-03-26 11:11    Y  \n",
       "22040  2021-03-26 11:11    Y  \n",
       "22041  2021-03-26 11:05    Y  "
      ]
     },
     "execution_count": 13,
     "metadata": {},
     "output_type": "execute_result"
    }
   ],
   "source": [
    "#아래서부터도 확인 할 수 있습니다.\n",
    "my_df.tail()"
   ]
  },
  {
   "cell_type": "code",
   "execution_count": 58,
   "metadata": {},
   "outputs": [
    {
     "data": {
      "text/html": [
       "<div>\n",
       "<style scoped>\n",
       "    .dataframe tbody tr th:only-of-type {\n",
       "        vertical-align: middle;\n",
       "    }\n",
       "\n",
       "    .dataframe tbody tr th {\n",
       "        vertical-align: top;\n",
       "    }\n",
       "\n",
       "    .dataframe thead th {\n",
       "        text-align: right;\n",
       "    }\n",
       "</style>\n",
       "<table border=\"1\" class=\"dataframe\">\n",
       "  <thead>\n",
       "    <tr style=\"text-align: right;\">\n",
       "      <th></th>\n",
       "      <th>연번</th>\n",
       "      <th>확진일</th>\n",
       "      <th>지역</th>\n",
       "      <th>접촉력</th>\n",
       "    </tr>\n",
       "  </thead>\n",
       "  <tbody>\n",
       "    <tr>\n",
       "      <th>0</th>\n",
       "      <td>41410</td>\n",
       "      <td>2021-05-17</td>\n",
       "      <td>영등포구</td>\n",
       "      <td>강남구 소재 학원 관련(?21.5.)</td>\n",
       "    </tr>\n",
       "    <tr>\n",
       "      <th>1</th>\n",
       "      <td>41409</td>\n",
       "      <td>2021-05-17</td>\n",
       "      <td>광진구</td>\n",
       "      <td>기타 확진자 접촉</td>\n",
       "    </tr>\n",
       "    <tr>\n",
       "      <th>2</th>\n",
       "      <td>41408</td>\n",
       "      <td>2021-05-17</td>\n",
       "      <td>타시도</td>\n",
       "      <td>강동구 소재 노래연습장 관련</td>\n",
       "    </tr>\n",
       "    <tr>\n",
       "      <th>3</th>\n",
       "      <td>41407</td>\n",
       "      <td>2021-05-17</td>\n",
       "      <td>강동구</td>\n",
       "      <td>감염경로 조사중</td>\n",
       "    </tr>\n",
       "    <tr>\n",
       "      <th>4</th>\n",
       "      <td>41406</td>\n",
       "      <td>2021-05-17</td>\n",
       "      <td>서초구</td>\n",
       "      <td>기타 확진자 접촉</td>\n",
       "    </tr>\n",
       "    <tr>\n",
       "      <th>...</th>\n",
       "      <td>...</td>\n",
       "      <td>...</td>\n",
       "      <td>...</td>\n",
       "      <td>...</td>\n",
       "    </tr>\n",
       "    <tr>\n",
       "      <th>22037</th>\n",
       "      <td>19373</td>\n",
       "      <td>2021-01-01</td>\n",
       "      <td>동작구</td>\n",
       "      <td>감염경로 조사중</td>\n",
       "    </tr>\n",
       "    <tr>\n",
       "      <th>22038</th>\n",
       "      <td>19372</td>\n",
       "      <td>2021-01-01</td>\n",
       "      <td>서초구</td>\n",
       "      <td>기타 확진자 접촉</td>\n",
       "    </tr>\n",
       "    <tr>\n",
       "      <th>22039</th>\n",
       "      <td>19371</td>\n",
       "      <td>2021-01-01</td>\n",
       "      <td>동작구</td>\n",
       "      <td>감염경로 조사중</td>\n",
       "    </tr>\n",
       "    <tr>\n",
       "      <th>22040</th>\n",
       "      <td>19370</td>\n",
       "      <td>2021-01-01</td>\n",
       "      <td>동작구</td>\n",
       "      <td>기타 확진자 접촉</td>\n",
       "    </tr>\n",
       "    <tr>\n",
       "      <th>22041</th>\n",
       "      <td>19369</td>\n",
       "      <td>2021-01-01</td>\n",
       "      <td>성북구</td>\n",
       "      <td>감염경로 조사중</td>\n",
       "    </tr>\n",
       "  </tbody>\n",
       "</table>\n",
       "<p>22042 rows × 4 columns</p>\n",
       "</div>"
      ],
      "text/plain": [
       "          연번         확진일    지역                   접촉력\n",
       "0      41410  2021-05-17  영등포구  강남구 소재 학원 관련(?21.5.)\n",
       "1      41409  2021-05-17   광진구             기타 확진자 접촉\n",
       "2      41408  2021-05-17   타시도       강동구 소재 노래연습장 관련\n",
       "3      41407  2021-05-17   강동구              감염경로 조사중\n",
       "4      41406  2021-05-17   서초구             기타 확진자 접촉\n",
       "...      ...         ...   ...                   ...\n",
       "22037  19373  2021-01-01   동작구              감염경로 조사중\n",
       "22038  19372  2021-01-01   서초구             기타 확진자 접촉\n",
       "22039  19371  2021-01-01   동작구              감염경로 조사중\n",
       "22040  19370  2021-01-01   동작구             기타 확진자 접촉\n",
       "22041  19369  2021-01-01   성북구              감염경로 조사중\n",
       "\n",
       "[22042 rows x 4 columns]"
      ]
     },
     "execution_count": 58,
     "metadata": {},
     "output_type": "execute_result"
    }
   ],
   "source": [
    "# 필요없는 컬럼 제거하기 .\n",
    "my_df.drop(columns=['조치사항','등록일','수정일','노출여부'])"
   ]
  },
  {
   "cell_type": "code",
   "execution_count": 15,
   "metadata": {},
   "outputs": [
    {
     "data": {
      "text/plain": [
       "28"
      ]
     },
     "execution_count": 15,
     "metadata": {},
     "output_type": "execute_result"
    }
   ],
   "source": [
    "#서울에 몇개의 지역이 있는지?\n",
    "my_df.지역.nunique()"
   ]
  },
  {
   "cell_type": "code",
   "execution_count": 16,
   "metadata": {},
   "outputs": [
    {
     "data": {
      "text/html": [
       "<div>\n",
       "<style scoped>\n",
       "    .dataframe tbody tr th:only-of-type {\n",
       "        vertical-align: middle;\n",
       "    }\n",
       "\n",
       "    .dataframe tbody tr th {\n",
       "        vertical-align: top;\n",
       "    }\n",
       "\n",
       "    .dataframe thead th {\n",
       "        text-align: right;\n",
       "    }\n",
       "</style>\n",
       "<table border=\"1\" class=\"dataframe\">\n",
       "  <thead>\n",
       "    <tr style=\"text-align: right;\">\n",
       "      <th></th>\n",
       "      <th>확진일</th>\n",
       "      <th>지역</th>\n",
       "    </tr>\n",
       "  </thead>\n",
       "  <tbody>\n",
       "    <tr>\n",
       "      <th>0</th>\n",
       "      <td>2021-05-17</td>\n",
       "      <td>영등포구</td>\n",
       "    </tr>\n",
       "    <tr>\n",
       "      <th>1</th>\n",
       "      <td>2021-05-17</td>\n",
       "      <td>광진구</td>\n",
       "    </tr>\n",
       "    <tr>\n",
       "      <th>2</th>\n",
       "      <td>2021-05-17</td>\n",
       "      <td>타시도</td>\n",
       "    </tr>\n",
       "    <tr>\n",
       "      <th>3</th>\n",
       "      <td>2021-05-17</td>\n",
       "      <td>강동구</td>\n",
       "    </tr>\n",
       "    <tr>\n",
       "      <th>4</th>\n",
       "      <td>2021-05-17</td>\n",
       "      <td>서초구</td>\n",
       "    </tr>\n",
       "  </tbody>\n",
       "</table>\n",
       "</div>"
      ],
      "text/plain": [
       "          확진일    지역\n",
       "0  2021-05-17  영등포구\n",
       "1  2021-05-17   광진구\n",
       "2  2021-05-17   타시도\n",
       "3  2021-05-17   강동구\n",
       "4  2021-05-17   서초구"
      ]
     },
     "execution_count": 16,
     "metadata": {},
     "output_type": "execute_result"
    }
   ],
   "source": [
    "#28개 지역중 가장 처음으로 확진된 지역은 어디인지 알아보겠습니다.\n",
    "my_df[['확진일','지역']].head()"
   ]
  },
  {
   "cell_type": "code",
   "execution_count": 17,
   "metadata": {},
   "outputs": [
    {
     "data": {
      "text/html": [
       "<div>\n",
       "<style scoped>\n",
       "    .dataframe tbody tr th:only-of-type {\n",
       "        vertical-align: middle;\n",
       "    }\n",
       "\n",
       "    .dataframe tbody tr th {\n",
       "        vertical-align: top;\n",
       "    }\n",
       "\n",
       "    .dataframe thead th {\n",
       "        text-align: right;\n",
       "    }\n",
       "</style>\n",
       "<table border=\"1\" class=\"dataframe\">\n",
       "  <thead>\n",
       "    <tr style=\"text-align: right;\">\n",
       "      <th></th>\n",
       "      <th>확진일</th>\n",
       "      <th>지역</th>\n",
       "    </tr>\n",
       "  </thead>\n",
       "  <tbody>\n",
       "    <tr>\n",
       "      <th>22041</th>\n",
       "      <td>2021-01-01</td>\n",
       "      <td>성북구</td>\n",
       "    </tr>\n",
       "  </tbody>\n",
       "</table>\n",
       "</div>"
      ],
      "text/plain": [
       "              확진일   지역\n",
       "22041  2021-01-01  성북구"
      ]
     },
     "execution_count": 17,
     "metadata": {},
     "output_type": "execute_result"
    }
   ],
   "source": [
    "#처음 확진자의 지역은 성북구로 확인됩니다.\n",
    "(\n",
    "my_df[['확진일','지역']]\n",
    ".sort_values('확진일')\n",
    ".head(1)\n",
    ")"
   ]
  },
  {
   "cell_type": "code",
   "execution_count": 18,
   "metadata": {},
   "outputs": [
    {
     "data": {
      "text/html": [
       "<div>\n",
       "<style scoped>\n",
       "    .dataframe tbody tr th:only-of-type {\n",
       "        vertical-align: middle;\n",
       "    }\n",
       "\n",
       "    .dataframe tbody tr th {\n",
       "        vertical-align: top;\n",
       "    }\n",
       "\n",
       "    .dataframe thead th {\n",
       "        text-align: right;\n",
       "    }\n",
       "</style>\n",
       "<table border=\"1\" class=\"dataframe\">\n",
       "  <thead>\n",
       "    <tr style=\"text-align: right;\">\n",
       "      <th></th>\n",
       "      <th>연번</th>\n",
       "      <th>확진일</th>\n",
       "      <th>지역</th>\n",
       "    </tr>\n",
       "  </thead>\n",
       "  <tbody>\n",
       "    <tr>\n",
       "      <th>0</th>\n",
       "      <td>41410</td>\n",
       "      <td>2021-05-17</td>\n",
       "      <td>영등포구</td>\n",
       "    </tr>\n",
       "    <tr>\n",
       "      <th>1</th>\n",
       "      <td>41409</td>\n",
       "      <td>2021-05-17</td>\n",
       "      <td>광진구</td>\n",
       "    </tr>\n",
       "    <tr>\n",
       "      <th>2</th>\n",
       "      <td>41408</td>\n",
       "      <td>2021-05-17</td>\n",
       "      <td>타시도</td>\n",
       "    </tr>\n",
       "    <tr>\n",
       "      <th>3</th>\n",
       "      <td>41407</td>\n",
       "      <td>2021-05-17</td>\n",
       "      <td>강동구</td>\n",
       "    </tr>\n",
       "    <tr>\n",
       "      <th>4</th>\n",
       "      <td>41406</td>\n",
       "      <td>2021-05-17</td>\n",
       "      <td>서초구</td>\n",
       "    </tr>\n",
       "  </tbody>\n",
       "</table>\n",
       "</div>"
      ],
      "text/plain": [
       "      연번         확진일    지역\n",
       "0  41410  2021-05-17  영등포구\n",
       "1  41409  2021-05-17   광진구\n",
       "2  41408  2021-05-17   타시도\n",
       "3  41407  2021-05-17   강동구\n",
       "4  41406  2021-05-17   서초구"
      ]
     },
     "execution_count": 18,
     "metadata": {},
     "output_type": "execute_result"
    }
   ],
   "source": [
    "#가장 많이 확진자가 발생한날과 지역은 어디일까요 ? \n",
    "#한번 알아보겠습니다 .\n",
    "my_df[['연번','확진일','지역']].head()"
   ]
  },
  {
   "cell_type": "code",
   "execution_count": 19,
   "metadata": {},
   "outputs": [
    {
     "data": {
      "text/plain": [
       "Index(['확진일', '지역', '접촉력', '등록일', '수정일', '노출여부'], dtype='object')"
      ]
     },
     "execution_count": 19,
     "metadata": {},
     "output_type": "execute_result"
    }
   ],
   "source": [
    "my_df.select_dtypes(object).columns"
   ]
  },
  {
   "cell_type": "code",
   "execution_count": 20,
   "metadata": {},
   "outputs": [
    {
     "data": {
      "text/plain": [
       "137"
      ]
     },
     "execution_count": 20,
     "metadata": {},
     "output_type": "execute_result"
    }
   ],
   "source": [
    "my_df.확진일.nunique()"
   ]
  },
  {
   "cell_type": "code",
   "execution_count": 21,
   "metadata": {},
   "outputs": [
    {
     "data": {
      "text/plain": [
       "2021-01-03    326\n",
       "2021-01-06    297\n",
       "2021-01-05    263\n",
       "2021-02-16    258\n",
       "2021-04-27    257\n",
       "             ... \n",
       "2021-01-30    100\n",
       "2021-03-22     97\n",
       "2021-02-28     92\n",
       "2021-02-08     90\n",
       "2021-03-15     79\n",
       "Name: 확진일, Length: 137, dtype: int64"
      ]
     },
     "execution_count": 21,
     "metadata": {},
     "output_type": "execute_result"
    }
   ],
   "source": [
    "my_df.확진일.value_counts()"
   ]
  },
  {
   "cell_type": "code",
   "execution_count": 44,
   "metadata": {},
   "outputs": [
    {
     "data": {
      "text/plain": [
       "<BarContainer object of 137 artists>"
      ]
     },
     "execution_count": 44,
     "metadata": {},
     "output_type": "execute_result"
    },
    {
     "data": {
      "image/png": "[encoded data removed]",
      "text/plain": [
       "<Figure size 1080x936 with 1 Axes>"
      ]
     },
     "metadata": {
      "needs_background": "light"
     },
     "output_type": "display_data"
    }
   ],
   "source": [
    "#matplotlib # 1월3일에 가장 많은 확진자가 발생한걸 표로  볼 수 있습니다.\n",
    "import matplotlib.pyplot as plt\n",
    "fig, ax = plt.subplots(figsize=(15,13))                          \n",
    "plt.bar(my_df.확진일.value_counts().index, my_df.확진일.value_counts())"
   ]
  },
  {
   "cell_type": "code",
   "execution_count": 23,
   "metadata": {},
   "outputs": [
    {
     "data": {
      "text/plain": [
       "28"
      ]
     },
     "execution_count": 23,
     "metadata": {},
     "output_type": "execute_result"
    }
   ],
   "source": [
    "my_df.지역.nunique()"
   ]
  },
  {
   "cell_type": "code",
   "execution_count": 24,
   "metadata": {},
   "outputs": [
    {
     "data": {
      "text/plain": [
       "강남구     1316\n",
       "송파구     1226\n",
       "노원구     1075\n",
       "은평구     1065\n",
       "중랑구     1051\n",
       "타시도     1038\n",
       "강동구     1008\n",
       "관악구      935\n",
       "동작구      934\n",
       "동대문구     921\n",
       "서초구      918\n",
       "성북구      917\n",
       "광진구      880\n",
       "영등포구     829\n",
       "구로구      789\n",
       "강서구      764\n",
       "도봉구      762\n",
       "양천구      757\n",
       "강북구      723\n",
       "기타       697\n",
       "성동구      678\n",
       "용산구      663\n",
       "마포구      606\n",
       "서대문구     486\n",
       "중구       356\n",
       "종로구      325\n",
       "금천구      322\n",
       "앙쳔구        1\n",
       "Name: 지역, dtype: int64"
      ]
     },
     "execution_count": 24,
     "metadata": {},
     "output_type": "execute_result"
    }
   ],
   "source": [
    "#강남구에서 1316명의 확진자가 발생하였으며 , 다음으로 송파구 , 노원구임을 알 수 있습니다. 가장 적게 확진된 양천구 또한 확인 가능합니다.\n",
    "my_df.지역.value_counts()"
   ]
  },
  {
   "cell_type": "code",
   "execution_count": 26,
   "metadata": {},
   "outputs": [
    {
     "data": {
      "text/plain": [
       "<AxesSubplot:>"
      ]
     },
     "execution_count": 26,
     "metadata": {},
     "output_type": "execute_result"
    },
    {
     "data": {
      "image/png": "[encoded data removed]",
      "text/plain": [
       "<Figure size 432x288 with 1 Axes>"
      ]
     },
     "metadata": {
      "needs_background": "light"
     },
     "output_type": "display_data"
    }
   ],
   "source": [
    "my_df.지역.value_counts(dropna=False).plot(kind='bar')"
   ]
  },
  {
   "cell_type": "code",
   "execution_count": 27,
   "metadata": {},
   "outputs": [],
   "source": [
    "# 이상으로 마치겠습니다 .감사합니다."
   ]
  },
  {
   "cell_type": "code",
   "execution_count": null,
   "metadata": {},
   "outputs": [],
   "source": []
  }
 ],
 "metadata": {
  "kernelspec": {
   "display_name": "Python 3",
   "language": "python",
   "name": "python3"
  },
  "language_info": {
   "codemirror_mode": {
    "name": "ipython",
    "version": 3
   },
   "file_extension": ".py",
   "mimetype": "text/x-python",
   "name": "python",
   "nbconvert_exporter": "python",
   "pygments_lexer": "ipython3",
   "version": "3.8.5"
  }
 },
 "nbformat": 4,
 "nbformat_minor": 4
}
